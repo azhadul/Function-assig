{
  "nbformat": 4,
  "nbformat_minor": 0,
  "metadata": {
    "colab": {
      "provenance": []
    },
    "kernelspec": {
      "name": "python3",
      "display_name": "Python 3"
    },
    "language_info": {
      "name": "python"
    }
  },
  "cells": [
    {
      "cell_type": "markdown",
      "source": [
        "1. What is the difference between a function and a method in Python?\n",
        "-  Function: A block of reusable code that performs a specific task. Defined using def\n",
        "\n",
        "   where, Method: A function that is associated with an object usually called on objects of a class.\n",
        "\n",
        "   Examples are:-"
      ],
      "metadata": {
        "id": "fSc6KoFv2XDe"
      }
    },
    {
      "cell_type": "code",
      "source": [
        "def greet(name):\n",
        "    return f\"Hello, {name}\"\n"
      ],
      "metadata": {
        "id": "JXFwyEvw3m3t"
      },
      "execution_count": 2,
      "outputs": []
    },
    {
      "cell_type": "code",
      "source": [
        "greet(\"Azhadul\")"
      ],
      "metadata": {
        "colab": {
          "base_uri": "https://localhost:8080/",
          "height": 36
        },
        "id": "61k7JKO43va9",
        "outputId": "d3f8b540-f111-4913-be51-408c2da5eacb"
      },
      "execution_count": 8,
      "outputs": [
        {
          "output_type": "execute_result",
          "data": {
            "text/plain": [
              "'Hello, Azhadul'"
            ],
            "application/vnd.google.colaboratory.intrinsic+json": {
              "type": "string"
            }
          },
          "metadata": {},
          "execution_count": 8
        }
      ]
    },
    {
      "cell_type": "code",
      "source": [
        "name = \"Alice\"\n",
        "name.upper()\n"
      ],
      "metadata": {
        "colab": {
          "base_uri": "https://localhost:8080/",
          "height": 36
        },
        "id": "lTwQACkj32yj",
        "outputId": "97567c05-290e-41e8-c925-d5e885819615"
      },
      "execution_count": 9,
      "outputs": [
        {
          "output_type": "execute_result",
          "data": {
            "text/plain": [
              "'ALICE'"
            ],
            "application/vnd.google.colaboratory.intrinsic+json": {
              "type": "string"
            }
          },
          "metadata": {},
          "execution_count": 9
        }
      ]
    },
    {
      "cell_type": "markdown",
      "source": [
        "2. Explain the concept of function arguments and parameters in Python.\n",
        "-  Parameters: Variables listed in the function definition.\n",
        "\n",
        "Arguments: Values passed to the function when calling it"
      ],
      "metadata": {
        "id": "mJ2iL65F40lF"
      }
    },
    {
      "cell_type": "code",
      "source": [
        "def add(x, y):  #x, y are parameters\n",
        "    return x + y\n",
        "\n",
        "add(2, 3)  #2, 3 are arguments\n"
      ],
      "metadata": {
        "colab": {
          "base_uri": "https://localhost:8080/"
        },
        "id": "Mql_aWU94kuU",
        "outputId": "9c599046-d9e4-4ba4-d20b-e1e02bdaa6a6"
      },
      "execution_count": 10,
      "outputs": [
        {
          "output_type": "execute_result",
          "data": {
            "text/plain": [
              "5"
            ]
          },
          "metadata": {},
          "execution_count": 10
        }
      ]
    },
    {
      "cell_type": "markdown",
      "source": [
        "3. What are the different ways to define and call a function in Python?\n",
        "-  Different ways to define are using def or lambda\n",
        "\n",
        "   cell a function in python by using the function name followed by parenthesess and arguments"
      ],
      "metadata": {
        "id": "WNHdZgHo5PSV"
      }
    },
    {
      "cell_type": "code",
      "source": [
        "def greet(name):\n",
        "    print(f\"Hi {name}!\")\n",
        "\n",
        "greet(\"John\")  #Function call\n",
        "\n",
        "#Lambda\n",
        "square = lambda x: x * x\n",
        "square(4)\n"
      ],
      "metadata": {
        "colab": {
          "base_uri": "https://localhost:8080/"
        },
        "id": "QyF07PY85L-U",
        "outputId": "645e0f65-3f5c-442f-e9bd-6368e17338b4"
      },
      "execution_count": 11,
      "outputs": [
        {
          "output_type": "stream",
          "name": "stdout",
          "text": [
            "Hi John!\n"
          ]
        },
        {
          "output_type": "execute_result",
          "data": {
            "text/plain": [
              "16"
            ]
          },
          "metadata": {},
          "execution_count": 11
        }
      ]
    },
    {
      "cell_type": "markdown",
      "source": [
        "4. What is the purpose of the return statement in a Python function?\n",
        "-  Sends a result back to the caller and exits the function."
      ],
      "metadata": {
        "id": "a2EcYeOc6l-0"
      }
    },
    {
      "cell_type": "code",
      "source": [
        "def multiply(a, b):\n",
        "    return a * b\n",
        "multiply(2, 3)"
      ],
      "metadata": {
        "colab": {
          "base_uri": "https://localhost:8080/"
        },
        "id": "jdXEkq1C6lpN",
        "outputId": "9509e725-b5dc-45d9-d61e-bf8cf17e4df6"
      },
      "execution_count": 15,
      "outputs": [
        {
          "output_type": "execute_result",
          "data": {
            "text/plain": [
              "6"
            ]
          },
          "metadata": {},
          "execution_count": 15
        }
      ]
    },
    {
      "cell_type": "markdown",
      "source": [
        "5. What are iterators in Python and how do they differ from iterables?\n",
        "-  Iterable: An object capable of returning its members one at a time e.g., list, string.\n",
        "  Iterator: An object with a next() method that returns the next value.\n",
        "   "
      ],
      "metadata": {
        "id": "G8nMHgGz6_z1"
      }
    },
    {
      "cell_type": "code",
      "source": [
        "nums = [1, 2, 3]  #Iterable\n",
        "it = iter(nums)   #Iterator\n",
        "next(it)"
      ],
      "metadata": {
        "colab": {
          "base_uri": "https://localhost:8080/"
        },
        "id": "AsYWd5Lt6MSE",
        "outputId": "24a85954-4c7e-4214-b5da-f14e4b60a0c6"
      },
      "execution_count": 16,
      "outputs": [
        {
          "output_type": "execute_result",
          "data": {
            "text/plain": [
              "1"
            ]
          },
          "metadata": {},
          "execution_count": 16
        }
      ]
    },
    {
      "cell_type": "markdown",
      "source": [
        "6. Explain the concept of generators in Python and how they are defined.\n",
        "-  A generator is a function that yields values using the yield keyword instead of return.\n",
        "\n",
        "  used to produce a sequence without storing all values in memory"
      ],
      "metadata": {
        "id": "KnUuXtG87yAc"
      }
    },
    {
      "cell_type": "code",
      "source": [
        "def countdown(n):\n",
        "    while n > 0:\n",
        "        yield n\n",
        "        n -= 1\n"
      ],
      "metadata": {
        "id": "zL-q0l2O7mDs"
      },
      "execution_count": 21,
      "outputs": []
    },
    {
      "cell_type": "markdown",
      "source": [
        "7. What are the advantages of using generators over regular functions?\n",
        "-  The advantages of using generators are\n",
        "\n",
        "(i)Memory-efficient: Generates values on the fly.\n",
        "\n",
        "(ii)Lazy evaluation: Values are produced only when needed.\n",
        "\n",
        "(iii)\n",
        "Clean code: Simpler syntax for iterator logic."
      ],
      "metadata": {
        "id": "sRGXl2rP9Gb9"
      }
    },
    {
      "cell_type": "markdown",
      "source": [
        "8. What is a lambda function in Python and when is it typically used?\n",
        "-  A small anonymous function defined using lambda.\n",
        " used for short functions passed tofunctions like map() , filter()"
      ],
      "metadata": {
        "id": "Y-dUKqK_-NYl"
      }
    },
    {
      "cell_type": "code",
      "source": [
        "add = lambda x, y: x + y\n",
        "add(2, 3)  # 5\n"
      ],
      "metadata": {
        "colab": {
          "base_uri": "https://localhost:8080/"
        },
        "id": "Z4IFfYKz83Gs",
        "outputId": "687b2513-cc6d-4e07-b775-671b138aa641"
      },
      "execution_count": 22,
      "outputs": [
        {
          "output_type": "execute_result",
          "data": {
            "text/plain": [
              "5"
            ]
          },
          "metadata": {},
          "execution_count": 22
        }
      ]
    },
    {
      "cell_type": "markdown",
      "source": [
        "9. Explain the purpose and usage of the map() function in Python.\n",
        "-  Applies a function to all items in an iterable."
      ],
      "metadata": {
        "id": "DpSJWYfe-71E"
      }
    },
    {
      "cell_type": "code",
      "source": [
        "nums = [1, 2, 3]\n",
        "squares = list(map(lambda x: x**2, nums))  # [1, 4, 9]\n",
        "\n",
        "print(squares)"
      ],
      "metadata": {
        "colab": {
          "base_uri": "https://localhost:8080/"
        },
        "id": "KKgFayQu8-t7",
        "outputId": "2dcf629c-6352-4728-c449-364cbdcc0964"
      },
      "execution_count": 25,
      "outputs": [
        {
          "output_type": "stream",
          "name": "stdout",
          "text": [
            "[1, 4, 9]\n"
          ]
        }
      ]
    },
    {
      "cell_type": "markdown",
      "source": [
        "10. What is the difference between `map()`, `reduce()`, and `filter()` functions in Python?\n",
        "- map() Applies a function to every item.\n",
        "  \n",
        "  reduce() Reduces to a single value by applying function cumulatively.\n",
        "  \n",
        "  filter() Reduces to a single value by applying function cumulatively."
      ],
      "metadata": {
        "id": "eI3FH3VJ_aZ0"
      }
    },
    {
      "cell_type": "code",
      "source": [
        "nums = [1, 2, 3]\n",
        "result = list(map(lambda x: x * 2, nums))\n",
        "print(result)\n"
      ],
      "metadata": {
        "colab": {
          "base_uri": "https://localhost:8080/"
        },
        "id": "QlkBVcys_H4r",
        "outputId": "74761abf-eb9f-4474-ffe7-faab9773c43f"
      },
      "execution_count": 26,
      "outputs": [
        {
          "output_type": "stream",
          "name": "stdout",
          "text": [
            "[2, 4, 6]\n"
          ]
        }
      ]
    },
    {
      "cell_type": "code",
      "source": [
        "nums = [1, 2, 3, 4]\n",
        "result = list(filter(lambda x: x % 2 == 0, nums))\n",
        "print(result)\n"
      ],
      "metadata": {
        "colab": {
          "base_uri": "https://localhost:8080/"
        },
        "id": "FISfXQB-C9p7",
        "outputId": "1917ba1d-fd1d-4f50-ac86-70e7a0776d44"
      },
      "execution_count": 27,
      "outputs": [
        {
          "output_type": "stream",
          "name": "stdout",
          "text": [
            "[2, 4]\n"
          ]
        }
      ]
    },
    {
      "cell_type": "code",
      "source": [
        "from functools import reduce\n",
        "nums = [1, 2, 3, 4]\n",
        "result = reduce(lambda x, y: x + y, nums)\n",
        "print(result)\n"
      ],
      "metadata": {
        "colab": {
          "base_uri": "https://localhost:8080/"
        },
        "id": "AZ3UwgtTDC1r",
        "outputId": "7da855d2-53d3-409e-a361-9e75ce15c448"
      },
      "execution_count": 28,
      "outputs": [
        {
          "output_type": "stream",
          "name": "stdout",
          "text": [
            "10\n"
          ]
        }
      ]
    },
    {
      "cell_type": "markdown",
      "source": [
        "11. Using pen & Paper write the internal mechanism for sum operation using  reduce function on this given  list:[47,11,42,13];\n",
        "- To fulfill your request for a pen & paper explanation of the internal mechanism of the reduce() function"
      ],
      "metadata": {
        "id": "ozH5gQ6oDJk0"
      }
    },
    {
      "cell_type": "markdown",
      "source": [
        "![images.jpg](data:image/jpeg;base64,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)"
      ],
      "metadata": {
        "id": "iIsSWxoXGClk"
      }
    },
    {
      "cell_type": "code",
      "source": [
        "from functools import reduce\n",
        "reduce(lambda x, y: x + y, [47, 11, 42, 13])\n"
      ],
      "metadata": {
        "colab": {
          "base_uri": "https://localhost:8080/"
        },
        "id": "GD3hBQjPF-hL",
        "outputId": "8d3b0755-12f9-4ab7-9117-bd001f733ec2"
      },
      "execution_count": 29,
      "outputs": [
        {
          "output_type": "execute_result",
          "data": {
            "text/plain": [
              "113"
            ]
          },
          "metadata": {},
          "execution_count": 29
        }
      ]
    },
    {
      "cell_type": "markdown",
      "source": [
        "***Practical Questions:***"
      ],
      "metadata": {
        "id": "Zlp1x1lQGrFM"
      }
    },
    {
      "cell_type": "markdown",
      "source": [
        " 1. Write a Python function that takes a list of numbers as input and returns the sum of all even numbers in\n",
        "the list."
      ],
      "metadata": {
        "id": "C6bKkqXHHA7k"
      }
    },
    {
      "cell_type": "code",
      "source": [
        "def sum_even_numbers(numbers):\n",
        "    return sum(num for num in numbers if num % 2 == 0)\n",
        "\n",
        "print(sum_even_numbers([1, 2, 3, 4, 5, 6]))\n",
        "\n",
        "\n"
      ],
      "metadata": {
        "colab": {
          "base_uri": "https://localhost:8080/"
        },
        "id": "NxWAr0CKGAqL",
        "outputId": "d8345ab4-a11e-411b-e5a2-f2cf076c2913"
      },
      "execution_count": 36,
      "outputs": [
        {
          "output_type": "stream",
          "name": "stdout",
          "text": [
            "12\n"
          ]
        }
      ]
    },
    {
      "cell_type": "markdown",
      "source": [
        " 2. Create a Python function that accepts a string and returns the reverse of that string.\n",
        ""
      ],
      "metadata": {
        "id": "yKYcoNtaHmaM"
      }
    },
    {
      "cell_type": "code",
      "source": [
        "def reverse_string(s):\n",
        "    return s[::-1]\n",
        "\n",
        "print(reverse_string(\"hello\"))"
      ],
      "metadata": {
        "colab": {
          "base_uri": "https://localhost:8080/"
        },
        "id": "94U0nOYuHLyT",
        "outputId": "efcdd8ef-590d-437b-b3f0-dc78c67b2745"
      },
      "execution_count": 37,
      "outputs": [
        {
          "output_type": "stream",
          "name": "stdout",
          "text": [
            "olleh\n"
          ]
        }
      ]
    },
    {
      "cell_type": "markdown",
      "source": [
        " 3. Implement a Python function that takes a list of integers and returns a new list containing the squares of\n",
        "each number.\n"
      ],
      "metadata": {
        "id": "vOIlT1_lH3Fj"
      }
    },
    {
      "cell_type": "code",
      "source": [
        "def square_list(numbers):\n",
        "    return [num ** 2 for num in numbers]\n",
        "\n",
        "print(square_list([1, 2, 3]))\n"
      ],
      "metadata": {
        "colab": {
          "base_uri": "https://localhost:8080/"
        },
        "id": "8yOUSqJMH_MT",
        "outputId": "809e8022-95e0-4fca-bc0a-776747f3c625"
      },
      "execution_count": 38,
      "outputs": [
        {
          "output_type": "stream",
          "name": "stdout",
          "text": [
            "[1, 4, 9]\n"
          ]
        }
      ]
    },
    {
      "cell_type": "markdown",
      "source": [
        "4. Write a Python function that checks if a given number is prime or not from 1 to 200.\n"
      ],
      "metadata": {
        "id": "JKgcM6G9INOT"
      }
    },
    {
      "cell_type": "code",
      "source": [
        "def is_prime(n):\n",
        "    if n <= 1:\n",
        "        return False\n",
        "    for i in range(2, int(n**0.5)+1):\n",
        "        if n % i == 0:\n",
        "            return False\n",
        "    return True\n",
        "\n",
        "primes = [n for n in range(1, 201) if is_prime(n)]\n",
        "print(primes)\n"
      ],
      "metadata": {
        "colab": {
          "base_uri": "https://localhost:8080/"
        },
        "id": "RiMJdUcmIYlU",
        "outputId": "40656d43-9870-478d-c03d-ecd995b5af8d"
      },
      "execution_count": 39,
      "outputs": [
        {
          "output_type": "stream",
          "name": "stdout",
          "text": [
            "[2, 3, 5, 7, 11, 13, 17, 19, 23, 29, 31, 37, 41, 43, 47, 53, 59, 61, 67, 71, 73, 79, 83, 89, 97, 101, 103, 107, 109, 113, 127, 131, 137, 139, 149, 151, 157, 163, 167, 173, 179, 181, 191, 193, 197, 199]\n"
          ]
        }
      ]
    },
    {
      "cell_type": "markdown",
      "source": [
        " 5. Create an iterator class in Python that generates the Fibonacci sequence up to a specified number of\n",
        "terms."
      ],
      "metadata": {
        "id": "ey7yNyr4Ihp8"
      }
    },
    {
      "cell_type": "code",
      "source": [
        "class Fibonacci:\n",
        "    def __init__(self, max_terms):\n",
        "        self.max_terms = max_terms\n",
        "        self.a, self.b = 0, 1\n",
        "        self.count = 0\n",
        "\n",
        "    def __iter__(self):\n",
        "        return self\n",
        "\n",
        "    def __next__(self):\n",
        "        if self.count >= self.max_terms:\n",
        "            raise StopIteration\n",
        "        value = self.a\n",
        "        self.a, self.b = self.b, self.a + self.b\n",
        "        self.count += 1\n",
        "        return value\n",
        "\n",
        "for num in Fibonacci(10):\n",
        "    print(num, end=' ')\n"
      ],
      "metadata": {
        "colab": {
          "base_uri": "https://localhost:8080/"
        },
        "id": "zojyJTSYIlhL",
        "outputId": "9faba7ee-206a-49e0-c2cc-f0f8cd2d4e53"
      },
      "execution_count": 40,
      "outputs": [
        {
          "output_type": "stream",
          "name": "stdout",
          "text": [
            "0 1 1 2 3 5 8 13 21 34 "
          ]
        }
      ]
    },
    {
      "cell_type": "markdown",
      "source": [
        " 6. Write a generator function in Python that yields the powers of 2 up to a given exponent.\n"
      ],
      "metadata": {
        "id": "JMi13alfIuIE"
      }
    },
    {
      "cell_type": "code",
      "source": [
        "def powers_of_two(n):\n",
        "    for i in range(n + 1):\n",
        "        yield 2 ** i\n",
        "\n",
        "# Example:\n",
        "for val in powers_of_two(5):\n",
        "    print(val)\n"
      ],
      "metadata": {
        "colab": {
          "base_uri": "https://localhost:8080/"
        },
        "id": "xx-DX9esI2s8",
        "outputId": "d1a27bf1-2e3c-4d7b-dcc1-8a6bd479b166"
      },
      "execution_count": 41,
      "outputs": [
        {
          "output_type": "stream",
          "name": "stdout",
          "text": [
            "1\n",
            "2\n",
            "4\n",
            "8\n",
            "16\n",
            "32\n"
          ]
        }
      ]
    },
    {
      "cell_type": "markdown",
      "source": [
        " 7. Implement a generator function that reads a file line by line and yields each line as a string."
      ],
      "metadata": {
        "id": "b7G7m0tfI5Ib"
      }
    },
    {
      "cell_type": "code",
      "source": [
        "def read_file_lines(filename):\n",
        "    with open(filename, 'r') as file:\n",
        "        for line in file:\n",
        "            yield line.strip()\n",
        "\n"
      ],
      "metadata": {
        "id": "4Js24u8SI9fT"
      },
      "execution_count": 45,
      "outputs": []
    },
    {
      "cell_type": "markdown",
      "source": [
        "8. Use a lambda function in Python to sort a list of tuples based on the second element of each tuple."
      ],
      "metadata": {
        "id": "eUYL7NktJX0M"
      }
    },
    {
      "cell_type": "code",
      "source": [
        "tuples = [(1, 3), (2, 1), (4, 2)]\n",
        "sorted_tuples = sorted(tuples, key=lambda x: x[1])\n",
        "print(sorted_tuples)\n"
      ],
      "metadata": {
        "colab": {
          "base_uri": "https://localhost:8080/"
        },
        "id": "HNlR4nCKJUTd",
        "outputId": "82b5c80f-c713-428d-e9a9-6499313c4ab1"
      },
      "execution_count": 46,
      "outputs": [
        {
          "output_type": "stream",
          "name": "stdout",
          "text": [
            "[(2, 1), (4, 2), (1, 3)]\n"
          ]
        }
      ]
    },
    {
      "cell_type": "markdown",
      "source": [
        "9. Write a Python program that uses map() to convert a list of temperatures from Celsius to Fahrenheit."
      ],
      "metadata": {
        "id": "r5EcxmtOJhTj"
      }
    },
    {
      "cell_type": "code",
      "source": [
        "celsius = [0, 10, 20, 30]\n",
        "fahrenheit = list(map(lambda c: (c * 9/5) + 32, celsius))\n",
        "print(fahrenheit)  # Output: [32.0, 50.0, 68.0, 86.0]\n"
      ],
      "metadata": {
        "colab": {
          "base_uri": "https://localhost:8080/"
        },
        "id": "OtY2ovMrJl1j",
        "outputId": "d5e6bbec-a466-4481-9594-247da8311291"
      },
      "execution_count": 47,
      "outputs": [
        {
          "output_type": "stream",
          "name": "stdout",
          "text": [
            "[32.0, 50.0, 68.0, 86.0]\n"
          ]
        }
      ]
    },
    {
      "cell_type": "markdown",
      "source": [
        " 10. Create a Python program that uses filter() to remove all the vowels from a given string.\n",
        ""
      ],
      "metadata": {
        "id": "xvmJi1utJpgL"
      }
    },
    {
      "cell_type": "code",
      "source": [
        "def remove_vowels(s):\n",
        "    return ''.join(filter(lambda x: x.lower() not in 'aeiou', s))\n",
        "\n",
        "# Example:\n",
        "print(remove_vowels(\"Hello World\"))\n"
      ],
      "metadata": {
        "colab": {
          "base_uri": "https://localhost:8080/"
        },
        "id": "Nhe7oZ5NJtuz",
        "outputId": "59fa8977-79c8-417d-e7af-0535ed789b74"
      },
      "execution_count": 48,
      "outputs": [
        {
          "output_type": "stream",
          "name": "stdout",
          "text": [
            "Hll Wrld\n"
          ]
        }
      ]
    },
    {
      "cell_type": "markdown",
      "source": [
        " 11. Imagine an accounting routine used in a book shop. It works on a list with sublists, which look like this:"
      ],
      "metadata": {
        "id": "05INbs_YJ3nL"
      }
    },
    {
      "cell_type": "code",
      "source": [
        "orders = [\n",
        "    [34587, \"Learning Python, Mark Lutz\", 4, 40.95],\n",
        "    [98762, \"Programming Python, Mark Lutz\", 5, 56.80],\n",
        "    [77226, \"Head First Python, Paul Barry\", 3, 32.95],\n",
        "    [88112, \"Einführung in Python3, Bernd Klein\", 3, 24.99]\n",
        "]\n",
        "\n",
        "\n",
        "final_orders = list(map(\n",
        "    lambda order: (\n",
        "        order[0],\n",
        "        round(order[2] * order[3] + (10 if order[2] * order[3] < 100 else 0), 2)\n",
        "    ),\n",
        "    orders\n",
        "))\n",
        "\n",
        "print(final_orders)\n"
      ],
      "metadata": {
        "colab": {
          "base_uri": "https://localhost:8080/"
        },
        "id": "o8WSNR0DKlm9",
        "outputId": "cd101d1b-a286-4864-c6f1-58e68b301213"
      },
      "execution_count": 54,
      "outputs": [
        {
          "output_type": "stream",
          "name": "stdout",
          "text": [
            "[(34587, 163.8), (98762, 284.0), (77226, 108.85), (88112, 84.97)]\n"
          ]
        }
      ]
    }
  ]
}